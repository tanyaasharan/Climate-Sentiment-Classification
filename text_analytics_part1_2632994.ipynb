{
 "cells": [
  {
   "cell_type": "markdown",
   "id": "794243c0",
   "metadata": {},
   "source": [
    "# Text Analytics Coursework -- Tasks 1.1 to 1.3\n",
    "\n",
    "# Instructions:\n",
    "\n",
    "This notebook is forms the first part of your coursework assignment for Text Analytics in Spring 2025. You will need to read the instructions below and complete numbered tasks indicated by \"TASK n\". To complete the tasks, you will write code or explanations between the comments \"#WRITE YOUR ANSWER HERE\" and \"#END OF ANSWER\". For example:\n",
    "\n",
    "TASK 0: Complete the function below to output \"hello world\". \n"
   ]
  },
  {
   "cell_type": "code",
   "execution_count": 1,
   "id": "5486ee90",
   "metadata": {},
   "outputs": [
    {
     "name": "stdout",
     "output_type": "stream",
     "text": [
      "hello world\n"
     ]
    }
   ],
   "source": [
    "def demo_fun():\n",
    "    # WRITE YOUR ANSWER HERE\n",
    "    print(\"hello world\")\n",
    "    # END OF ANSWER\n",
    "\n",
    "### DO NOT MODIFY\n",
    "demo_fun()\n",
    "###"
   ]
  },
  {
   "cell_type": "markdown",
   "id": "a422f8fe",
   "metadata": {},
   "source": [
    "There is also some code in the cell that should not be modified. This code saves your results to file in the correct format, which is necessary for us to be able to mark your answers. Before you submit your notebook, please make sure this code has not been modified, then restart your kernel, clear all cell outputs, run all of your code once again, then save the notebook. \n",
    "\n",
    "Please note:\n",
    "  * The notebook you upload must include all the saved cell output after running all cells.\n",
    "  * The notebook code must be complete so that it reproduces all your output when we run it. \n",
    "  * For this coursework, we recommend that you use your virtual environment that you created for the labs. The packages you need are: numpy, scipy, nltk, pytorch, transformers and datasets (from HuggingFace), pandas, matplotlib and scikit-learn. \n",
    "\n",
    "## Marking guidelines:\n",
    "1. This notebook is worth 32% of the marks for the Text Analytics assignment.\n",
    "1. The number of marks for each task is shown alongside the task.\n",
    "1. We will evaluate the output of your code after running it, and marks will be awarded based on how well the output matches the task's instructions. \n",
    "1. We will give partial marks for incomplete or partially correct answers. \n",
    "1. We do not give additional marks for code style or comments, but clear code will help us to understand what you have done so that we can award partial marks where necessary. \n",
    "1. Unless the task asks you to implement something from scratch, there is no penalty for using software libraries in your implementation.\n",
    "\n",
    "## Support:\n",
    "\n",
    "The main source of support will be during the lab sessions. The TAs and lecturers will help you with questions about the lectures, the code provided for you in this notebook, and general questions about the topics we cover. For the assessed tasks, they can only answer clarifying questions about what you have to do. Please email Edwin if you have any other queries edwin.simpson@bristol.ac.uk and/or post your query to the Teams channel for this unit.\n",
    "\n",
    "## Deadline:\n",
    "\n",
    "The notebook must be submitted along with the second notebook on Blackboard before **Monday 28th April at 13.00**. \n",
    "\n",
    "## Submission:\n",
    "\n",
    "For this part of the assignment, please zip up the folder containing this file and the 'outputs' directory, containing the output from this notebook as .csv files. Please name your notebook file like this:\n",
    "   * Name this notebook 'text_analytics_part1_\\<student number\\>.ipynb'. Replace '\\<student number\\>' with your student number, which consists only of digits beginning with '2'. \n",
    "   * We mark anonymously, so please don't include your name in the notebook.\n",
    "\n",
    "You can submit the file on Blackboard to the submission point \"Text Analytics Part 1 Notebook\". Remember that the assignment also has parts 2 and 3, described in the PDF file on Blackboard."
   ]
  },
  {
   "cell_type": "markdown",
   "id": "54ff04e2",
   "metadata": {},
   "source": [
    "# Setup: random seeds\n",
    "\n",
    "Each student will work with slightly different data splits and model weights, which will be determined by setting your 'random seed'. \n",
    "We will check that your results come from using your random seed. Please set the seed in the cell below by changing the value of 'my_student_number' to your own student number (not your username, the number you can see on eVision that contains only digits). \n",
    "\n",
    "Using the correct seed ensures that your results are reproducible when we rerun your notebook."
   ]
  },
  {
   "cell_type": "code",
   "execution_count": 2,
   "id": "80bd735e",
   "metadata": {},
   "outputs": [],
   "source": [
    "import torch\n",
    "import random\n",
    "import numpy as np\n",
    "\n",
    "def set_seed(seed: int = 42):\n",
    "    random.seed(seed)  # Python's built-in random module\n",
    "    np.random.seed(seed)  # NumPy\n",
    "    torch.manual_seed(seed)  # PyTorch CPU\n",
    "    torch.cuda.manual_seed(seed)  # PyTorch GPU (if available)\n",
    "    torch.cuda.manual_seed_all(seed)  # Multi-GPU\n",
    "    torch.backends.cudnn.deterministic = True  # Ensure deterministic behavior\n",
    "    torch.backends.cudnn.benchmark = False  # Disable benchmark mode for reproducibility\n",
    "\n",
    "### SET YOUR SEED TO YOUR STUDENT NUMBER HERE\n",
    "my_student_number = 2632994\n",
    "set_seed(my_student_number)"
   ]
  },
  {
   "cell_type": "markdown",
   "id": "2877d086",
   "metadata": {},
   "source": [
    "# Setup: loading the data\n",
    "\n",
    "Let's make a folder to save the output of your work:"
   ]
  },
  {
   "cell_type": "code",
   "execution_count": 3,
   "id": "60bd9213",
   "metadata": {},
   "outputs": [],
   "source": [
    "import os\n",
    "import pandas as pd\n",
    "\n",
    "os.makedirs('./outputs', exist_ok=True)"
   ]
  },
  {
   "cell_type": "markdown",
   "id": "f79fc2c4",
   "metadata": {},
   "source": [
    "Now, let's load some more packages we will need later:"
   ]
  },
  {
   "cell_type": "code",
   "execution_count": 4,
   "id": "annoying-ethiopia",
   "metadata": {},
   "outputs": [],
   "source": [
    "%load_ext autoreload\n",
    "%autoreload 2\n",
    "\n",
    "# Use HuggingFace's datasets library to access the Emotion dataset\n",
    "from datasets import load_dataset\n",
    "import numpy as np\n",
    "from sklearn.model_selection import train_test_split "
   ]
  },
  {
   "cell_type": "markdown",
   "id": "09e90e82-bbdb-4532-91b1-58229d4f1043",
   "metadata": {},
   "source": [
    "\n",
    "The dataset classifies paragraphs taken from corporate disclosures that discuss climate-related issues. It classifiers them into \"risk\" (0), \"neutral\" (1) or \"opportunity\" (2) representing the sentiment of the paragraph.\n",
    "\n",
    "First we need to load the data. The data is already split into train, validation and test. The _validation_ set (also called 'development' set or 'devset') can be used to compute performance of your model when tuning hyperparameters, optimising combinations of features, or looking at the errors your model makes before improving it. This allows you to hold out the test set (i.e., not to look at it at all when developing your method) to give a fair evaluation of the model and how well it generalises to new examples. This avoids tuning the model to specific examples in the test set. An alternative approach to validation is to not use a single fixed validation set, but instead use [cross validation](https://scikit-learn.org/stable/modules/cross_validation.html). "
   ]
  },
  {
   "cell_type": "code",
   "execution_count": 5,
   "id": "efaf1096-acce-4226-a172-5357f49e91c1",
   "metadata": {},
   "outputs": [
    {
     "name": "stdout",
     "output_type": "stream",
     "text": [
      "Training dataset with 800 instances loaded\n",
      "Development/validation dataset with 200 instances loaded\n"
     ]
    }
   ],
   "source": [
    "cache_dir = \"./data_cache\"\n",
    "\n",
    "# load the original training set from HuggingFace\n",
    "train_dataset = load_dataset(\n",
    "    \"climatebert/climate_sentiment\",\n",
    "    split=\"train\",\n",
    "    cache_dir=cache_dir,\n",
    ")\n",
    "\n",
    "# we're going to create a new validation set by splitting the data\n",
    "dataset_splits = train_dataset.train_test_split(test_size=0.2)\n",
    "train_dataset = dataset_splits[\"train\"]\n",
    "val_dataset = dataset_splits[\"test\"]\n",
    "\n",
    "train_texts = np.array(train_dataset[\"text\"])\n",
    "val_texts = np.array(val_dataset[\"text\"])\n",
    "\n",
    "train_labels = np.array(train_dataset[\"label\"])\n",
    "val_labels = np.array(val_dataset[\"label\"])\n",
    "\n",
    "print(f\"Training dataset with {len(train_texts)} instances loaded\")\n",
    "print(f\"Development/validation dataset with {len(val_texts)} instances loaded\")\n",
    "\n",
    "### DO NOT MODIFY\n",
    "# save gold labels to file\n",
    "pd.DataFrame(val_labels).to_csv('./outputs/val_labels.csv')"
   ]
  },
  {
   "cell_type": "markdown",
   "id": "38916c42",
   "metadata": {},
   "source": [
    "In this notebook, you're going to build three different classifiers for this dataset, then compare how they work, and analyse the results. We are going to start by implementing a naïve Bayes classifier from scratch. \n",
    "\n",
    "We are going to begin by initialising some useful variables and doing some very simple pre-processing using CountVectorizer."
   ]
  },
  {
   "cell_type": "code",
   "execution_count": 6,
   "id": "5fb3e757",
   "metadata": {},
   "outputs": [
    {
     "name": "stderr",
     "output_type": "stream",
     "text": [
      "/opt/anaconda3/envs/r_env/lib/python3.10/site-packages/sklearn/feature_extraction/text.py:525: UserWarning: The parameter 'token_pattern' will not be used since 'tokenizer' is not None'\n",
      "  warnings.warn(\n"
     ]
    }
   ],
   "source": [
    "from sklearn.feature_extraction.text import CountVectorizer\n",
    "from nltk import word_tokenize\n",
    "\n",
    "num_classes = 3\n",
    "\n",
    "def preprocess(train_texts):\n",
    "    vectorizer = CountVectorizer(ngram_range=(2,2), tokenizer=word_tokenize)\n",
    "    X = vectorizer.fit_transform(train_texts).toarray()\n",
    "    num_features = X.shape[1]\n",
    "\n",
    "    X_val = vectorizer.transform(val_texts).toarray()\n",
    "\n",
    "    return X, X_val, vectorizer, num_features\n",
    "\n",
    "X, X_val, vectorizer, num_features = preprocess(train_texts)"
   ]
  },
  {
   "cell_type": "markdown",
   "id": "9cb1f7d1",
   "metadata": {},
   "source": [
    "## TASK 1.1a\n",
    "\n",
    "Complete the function below to compute the class priors, $p(y_n = c)$ for each class label $c$, where $y_n$ is the class label of document $n$. Do not use the Sklearn implementation to do this, but implement it yourself, e.g., using Numpy functions. The function must output the class priors as a list or Numpy array containing the probabilities. You do not need to apply any smoothing or regularisation.    (3 marks)"
   ]
  },
  {
   "cell_type": "code",
   "execution_count": 7,
   "id": "79e7da69",
   "metadata": {},
   "outputs": [
    {
     "name": "stdout",
     "output_type": "stream",
     "text": [
      "[0.34375 0.41    0.24625]\n"
     ]
    }
   ],
   "source": [
    "def compute_class_priors(texts, labels):\n",
    "    priors = np.zeros(num_classes)\n",
    "\n",
    "    ### WRITE YOUR ANSWER HERE\n",
    "    for c in range(num_classes):\n",
    "        # Compute probability for each class\n",
    "        priors[c] = np.sum(labels == c) / len(labels)  \n",
    "\n",
    "    ### END OF ANSWER\n",
    "    return priors\n",
    "\n",
    "\n",
    "class_priors = compute_class_priors(train_texts, train_labels)\n",
    "print(class_priors)\n",
    "\n",
    "### DO NOT MODIFY\n",
    "pd.DataFrame(class_priors).to_csv('./outputs/11a_class_priors.csv')"
   ]
  },
  {
   "cell_type": "markdown",
   "id": "3bc8c63e",
   "metadata": {},
   "source": [
    "## TASK 1.1b\n",
    "\n",
    "Complete the function below to extract n-gram features from the text, then compute the liklihood $p(x_{ni} = w | y_n = c)$ that the $i$ th n-gram in document $n$ is $w$, given that the class of $n$ is $c$. Again, do not use the Sklearn implementation to do this, but implement it yourself, e.g., using Numpy functions. The function must output the likelihoods as a 2D Numpy array containing probabilities. You should apply smoothing by adding counts of +1 to the counts of each feature.  (3 marks)"
   ]
  },
  {
   "cell_type": "code",
   "execution_count": 8,
   "id": "91d8722e",
   "metadata": {},
   "outputs": [],
   "source": [
    "def compute_feature_likelihoods(X, labels):\n",
    "\n",
    "    likelihoods = np.ones((num_features, num_classes))  # a 2D numpy array where you can store the likelihoods. Note that all values are initialised to one.\n",
    "\n",
    "    ### WRITE YOUR ANSWER HERE\n",
    "    for c in range(num_classes):\n",
    "        class_indices = np.where(labels == c)[0]  # Get indices of documents belonging to class c\n",
    "        likelihoods[:, c] += np.sum(X[class_indices], axis=0)  # Sum feature counts for class c\n",
    "    # Normalize to get probabilities\n",
    "    # likelihoods /= likelihoods.sum(axis=0)\n",
    "    likelihoods = likelihoods / likelihoods.sum(axis=0)\n",
    "    ### END OF ANSWER\n",
    "\n",
    "    ### END OF ANSWER\n",
    "    return likelihoods\n",
    "\n",
    "likelihoods = compute_feature_likelihoods(X, train_labels)\n",
    "\n",
    "### DO NOT MODIFY\n",
    "pd.DataFrame(likelihoods).to_csv('./outputs/11b_likelihoods.csv')"
   ]
  },
  {
   "cell_type": "markdown",
   "id": "8f6a867a",
   "metadata": {},
   "source": [
    "Now, we are going to use the code in the next cell to compute the log probabilities of each class for each text in the validation set. This code will use the previous functions you implemented, compute_class_priors and compute_feature_likelihoods. The log probabilities will be stored in the 'predictions' array."
   ]
  },
  {
   "cell_type": "code",
   "execution_count": 9,
   "id": "30194a65",
   "metadata": {},
   "outputs": [
    {
     "name": "stdout",
     "output_type": "stream",
     "text": [
      "[[-3.98892814e-01 -1.11188790e+00 -2.02379806e+01]\n",
      " [-1.38406811e+01 -1.33262136e+01 -2.60631600e-06]\n",
      " [-3.97190793e+01 -6.04778462e-03 -5.11108562e+00]\n",
      " [-4.61384688e+00 -3.66729971e-01 -1.21372136e+00]\n",
      " [-4.25938695e+00 -8.18498772e-01 -6.07381133e-01]\n",
      " [-2.96724506e+00 -3.37591268e+00 -8.95218841e-02]\n",
      " [-3.45525977e-04 -7.97070158e+00 -1.73307556e+01]\n",
      " [-7.11687650e+00 -1.68369116e+00 -2.06407638e-01]\n",
      " [-1.73236783e+01 -2.99639851e-08 -2.51292235e+01]\n",
      " [ 0.00000000e+00 -6.32668428e+01 -6.65654851e+01]\n",
      " [-1.97596423e+00 -6.87834136e-01 -1.02524428e+00]\n",
      " [-5.05476770e+00 -6.39956832e-03 -1.50662066e+01]\n",
      " [-1.41007373e-01 -2.02861847e+00 -2.10127077e+01]\n",
      " [-9.97666464e-05 -1.03849568e+01 -9.58332004e+00]\n",
      " [-2.97274028e-09 -1.96707617e+01 -2.29496647e+01]\n",
      " [-1.02602371e-10 -2.30009032e+01 -3.01825900e+01]\n",
      " [-1.95730860e-06 -1.31439448e+01 -2.56748833e+01]\n",
      " [-1.92583081e+01 -2.52695713e-08 -1.76814999e+01]\n",
      " [ 0.00000000e+00 -6.33815386e+01 -8.19186209e+01]\n",
      " [-1.48929757e-11 -2.49298281e+01 -4.38251728e+01]\n",
      " [-1.50128437e+01 -2.96784263e-03 -5.82150545e+00]\n",
      " [-9.04608334e-01 -5.18733350e-01 -1.05743256e+01]\n",
      " [-1.85724421e+01 -3.65739530e-03 -5.61283455e+00]\n",
      " [-7.60794664e-01 -6.29792214e-01 -1.28656909e+01]\n",
      " [-2.56643262e+01 -3.14040562e-08 -1.72765568e+01]\n",
      " [-1.46674059e-05 -1.11317037e+01 -1.74432556e+01]\n",
      " [-2.02627533e+01 -1.58490820e-09 -5.39783750e+01]\n",
      " [-3.21786590e+00 -4.08647063e-02 -1.43513915e+01]\n",
      " [-1.15085458e+01 -3.39383041e+00 -3.41669487e-02]\n",
      " [-8.06334444e+00 -4.24417953e+00 -1.47709276e-02]\n",
      " [-6.71997213e-09 -1.88181799e+01 -3.23549931e+01]\n",
      " [-4.48825356e+01  0.00000000e+00 -4.32104257e+01]\n",
      " [ 0.00000000e+00 -3.67074488e+01 -4.70291475e+01]\n",
      " [-2.54601543e+01 -1.13118404e-11 -2.66922296e+01]\n",
      " [-4.97563924e+00 -7.66370695e-03 -7.22203942e+00]\n",
      " [-2.28792212e+01 -1.34335881e+01 -1.46521535e-06]\n",
      " [-3.06577547e+01 -1.13118404e-11 -2.52118583e+01]\n",
      " [-1.41003979e+00 -2.80064232e-01 -8.93853482e+00]\n",
      " [ 0.00000000e+00 -4.53208347e+01 -5.51263880e+01]\n",
      " [ 0.00000000e+00 -6.47875533e+01 -7.04156466e+01]\n",
      " [ 0.00000000e+00 -3.31169759e+01 -3.77500494e+01]\n",
      " [-1.75530061e+01 -1.52288726e-06 -1.34106640e+01]\n",
      " [-5.33998161e-07 -1.44428743e+01 -2.88388655e+01]\n",
      " [-2.19968171e+01 -4.48888370e-04 -7.70896138e+00]\n",
      " [-5.52184896e+01  0.00000000e+00 -5.61574207e+01]\n",
      " [-4.34906027e-03 -5.43997335e+00 -1.78400882e+01]\n",
      " [-1.46850452e+01 -2.72494679e+00 -6.77972754e-02]\n",
      " [ 0.00000000e+00 -3.26914715e+01 -3.92988771e+01]\n",
      " [-1.04739441e+01 -1.76431269e+00 -1.87936590e-01]\n",
      " [-1.39782835e+01 -2.93079789e+00 -5.48314409e-02]\n",
      " [-2.30025745e-02 -3.79268551e+00 -8.49235574e+00]\n",
      " [-3.93875980e-05 -1.01466142e+01 -1.55402834e+01]\n",
      " [-2.76223619e+01 -2.95738652e-04 -8.12618230e+00]\n",
      " [-1.62792971e+01 -1.01993941e-01 -2.33340631e+00]\n",
      " [-1.12391021e+00 -4.10380174e-01 -4.45713471e+00]\n",
      " [-7.71756377e+00 -2.00300762e-03 -6.46559851e+00]\n",
      " [-8.65544103e+00 -3.32757858e-04 -8.74959235e+00]\n",
      " [-3.65476038e+01  0.00000000e+00 -3.97036536e+01]\n",
      " [-3.51607391e+01 -7.24298843e-10 -2.10458215e+01]\n",
      " [-9.37987337e+00 -9.01708409e-05 -1.20644194e+01]\n",
      " [-2.45638948e+01 -1.77879522e+01 -1.88488798e-08]\n",
      " [-7.57450946e+00 -5.40147677e-04 -1.05334859e+01]\n",
      " [-3.59561009e+01 -1.57718868e-02 -4.15740182e+00]\n",
      " [-3.46270869e+01 -6.91369743e-03 -4.97770556e+00]\n",
      " [-3.30850599e+01  0.00000000e+00 -3.34532592e+01]\n",
      " [-9.91705626e+00 -4.93288847e-05 -2.03035562e+01]\n",
      " [-5.64878164e+00 -3.81112750e-03 -8.17335751e+00]\n",
      " [-1.14833234e+01 -1.27479227e-05 -1.29204861e+01]\n",
      " [-1.07391830e+01 -5.59199734e-05 -1.02821228e+01]\n",
      " [-1.59068785e+01 -2.14947191e+00 -1.23915841e-01]\n",
      " [-1.53261799e+00 -2.45344341e-01 -6.44062384e+00]\n",
      " [-2.25889363e+01 -2.47496246e-10 -2.31020691e+01]\n",
      " [-3.75529439e+00 -5.81030000e+00 -2.67445625e-02]\n",
      " [-2.98100219e+01 -4.04915095e-04 -7.81203561e+00]\n",
      " [-8.72452708e+00 -1.73286001e-04 -1.14432744e+01]\n",
      " [-6.34361632e+00 -3.49772090e-03 -6.35751039e+00]\n",
      " [-3.70150544e+00 -5.88362378e-02 -3.42797768e+00]\n",
      " [-1.92875199e-01 -1.80458732e+00 -4.52149313e+00]\n",
      " [-1.90595605e+01 -8.29671156e+00 -2.49371773e-04]\n",
      " [-1.61738688e-01 -1.96124096e+00 -4.74987161e+00]\n",
      " [-1.19041424e+01 -7.76731162e-06 -1.38105758e+01]\n",
      " [-3.66447015e+01 -3.26838470e+01  0.00000000e+00]\n",
      " [-1.83263594e+01 -6.17284286e-08 -1.67965651e+01]\n",
      " [-9.57055831e+00 -6.44688692e+00 -1.65657391e-03]\n",
      " [-1.98378187e+01 -1.12819084e+01 -1.26013113e-05]\n",
      " [-7.26570396e+00 -9.56854082e-04 -8.26531646e+00]\n",
      " [-1.56417401e+00 -2.99100565e-01 -3.01075712e+00]\n",
      " [-2.18057728e+01 -1.62642725e+01 -8.67392487e-08]\n",
      " [-1.23100353e-01 -2.15567423e+00 -2.42005135e+01]\n",
      " [-2.27373675e-13 -2.92429070e+01 -4.93812818e+01]\n",
      " [-1.32630666e+01 -1.07765372e+01 -2.26215412e-05]\n",
      " [-2.01367562e+00 -1.43786731e-01 -7.75061407e+00]\n",
      " [-2.24750981e+01 -5.08906279e+00 -6.18286872e-03]\n",
      " [-1.97847096e+01 -9.20049391e+00 -1.00997166e-04]\n",
      " [-3.57085420e+00 -2.87190350e-02 -8.62952325e+00]\n",
      " [-2.80467329e+01 -1.66805256e+01 -5.69829126e-08]\n",
      " [-9.20257689e+00 -1.47294668e-04 -9.97596252e+00]\n",
      " [-1.44981547e+01 -5.06040067e-07 -2.09967408e+01]\n",
      " [-2.99605169e-04 -8.11352120e+00 -1.61409085e+01]\n",
      " [ 0.00000000e+00 -7.31086608e+01 -9.01159370e+01]\n",
      " [-3.40492079e-11 -2.41042070e+01 -3.10645977e+01]\n",
      " [-1.90682193e+01 -9.53986599e-05 -9.25754859e+00]\n",
      " [-1.83793652e+01 -2.99845900e-04 -8.11242657e+00]\n",
      " [ 0.00000000e+00 -3.79730948e+01 -6.15088962e+01]\n",
      " [ 0.00000000e+00 -5.66679429e+01 -5.72565210e+01]\n",
      " [-3.83332068e+00 -5.37797197e+00 -2.66056325e-02]\n",
      " [-8.98513470e+00 -1.66666510e+00 -2.09488651e-01]\n",
      " [-2.93842268e-01 -3.31929013e+00 -1.52130140e+00]\n",
      " [-5.13034041e-03 -7.50101306e+00 -5.38940723e+00]\n",
      " [-6.77159233e+00 -1.15509591e-03 -1.16683577e+01]\n",
      " [-1.55591934e+01 -3.15516498e+00 -4.35669481e-02]\n",
      " [-1.18685277e+01 -1.19375381e+00 -3.61096741e-01]\n",
      " [-1.31107958e+01 -7.66877090e+00 -4.69325083e-04]\n",
      " [-1.35615972e+01 -1.84578585e-06 -1.44011961e+01]\n",
      " [-1.32812805e+01 -7.81123973e-01 -6.12291457e-01]\n",
      " [-7.56936170e+00 -5.19388987e-04 -1.26422838e+01]\n",
      " [-1.42528722e-04 -8.85685167e+00 -1.59707445e+01]\n",
      " [-4.60134575e+01 -1.96111096e+01 -3.04089554e-09]\n",
      " [-4.69735505e-03 -5.36310351e+00 -2.18234086e+01]\n",
      " [-5.67010377e-01 -8.39593668e-01 -7.01829924e+00]\n",
      " [-8.19680276e+00 -2.77346318e-04 -1.32418493e+01]\n",
      " [-1.51603916e+01 -2.62017920e-07 -2.03536384e+01]\n",
      " [-7.20274438e+00 -6.79277150e-03 -5.11180243e+00]\n",
      " [-8.74683502e-06 -1.16468246e+01 -2.49875787e+01]\n",
      " [-4.72510371e-02 -3.07581322e+00 -1.98377628e+01]\n",
      " [-3.48398293e-04 -1.05040664e+01 -8.04434079e+00]\n",
      " [-2.74527169e+01 -2.68849204e+01 -3.29691829e-12]\n",
      " [-2.17396807e+00 -1.45803987e-01 -3.81910458e+00]\n",
      " [-1.17534048e+00 -3.69410632e-01 -8.84153830e+00]\n",
      " [ 0.00000000e+00 -5.98683990e+01 -8.40585105e+01]\n",
      " [-7.60310722e+00 -4.99039463e-04 -1.79425149e+01]\n",
      " [-1.97505515e+00 -1.03185350e+01 -1.49413041e-01]\n",
      " [-6.41040642e+00 -1.53780695e+00 -2.43979267e-01]\n",
      " [-6.96318544e+00 -9.46527838e-04 -2.00678574e+01]\n",
      " [-3.54224642e+01  0.00000000e+00 -3.41585839e+01]\n",
      " [-9.95331249e+00 -4.75988787e-05 -1.73929273e+01]\n",
      " [-2.87313653e+01 -1.89608045e-08 -1.77809119e+01]\n",
      " [-1.96769852e+01 -2.84956059e-09 -2.67095799e+01]\n",
      " [-2.30714807e+00 -1.51983232e+00 -3.83155780e-01]\n",
      " [-1.96404734e-04 -8.54184228e+00 -1.35883723e+01]\n",
      " [-5.36510579e-04 -7.53069252e+00 -3.12895068e+01]\n",
      " [-1.53797806e+00 -2.41838856e-01 -1.29826094e+01]\n",
      " [-9.43019817e+00 -1.14098608e-04 -1.02941979e+01]\n",
      " [-6.93743508e+01  0.00000000e+00 -6.04091974e+01]\n",
      " [-6.40663937e-01 -7.48573213e-01 -1.10092161e+01]\n",
      " [-1.40485505e+01 -9.50410729e-04 -6.95992568e+00]\n",
      " [-1.13686838e-13 -2.98949944e+01 -3.43577622e+01]\n",
      " [-1.60150544e+00 -2.44003291e-01 -4.20490915e+00]\n",
      " [-4.30853161e-02 -4.47497296e+00 -3.48089660e+00]\n",
      " [-9.89565816e+00 -5.04082998e-05 -1.80825412e+01]\n",
      " [-7.77082222e+00 -4.61347598e-04 -1.01423811e+01]\n",
      " [-1.50446384e+01 -2.68761162e-05 -1.05352308e+01]\n",
      " [-6.84993856e+00 -1.77149530e-01 -1.82457635e+00]\n",
      " [-6.38248997e+00 -1.69318255e-03 -1.39868519e+01]\n",
      " [-5.94354788e-10 -2.12886933e+01 -2.43638722e+01]\n",
      " [-2.08611471e+01 -2.05101473e-04 -8.49211251e+00]\n",
      " [-3.12042027e+00 -4.51423801e-02 -1.85099132e+01]\n",
      " [-7.43960414e+00 -5.87692456e-04 -1.99934104e+01]\n",
      " [-1.50429363e+00 -2.51252657e-01 -2.23990307e+01]\n",
      " [-2.47481935e+01 -1.29696172e+01 -2.33007893e-06]\n",
      " [-8.70239774e-07 -1.39544980e+01 -2.84542951e+01]\n",
      " [-4.67355974e-01 -9.85277615e-01 -1.18067830e+01]\n",
      " [-7.12601784e+01  0.00000000e+00 -1.01598761e+02]\n",
      " [-1.75787075e+01 -2.37555469e-08 -2.13282526e+01]\n",
      " [-8.59114908e-03 -4.76229951e+00 -1.16854600e+01]\n",
      " [-3.31209604e+01 -4.65608991e-08 -1.68825048e+01]\n",
      " [-8.44708335e+00 -2.14550152e-04 -2.00608786e+01]\n",
      " [-1.76195260e-06 -1.38679098e+01 -1.40225333e+01]\n",
      " [-7.77209702e+00 -4.21417593e-04 -2.64229254e+01]\n",
      " [-1.95542471e-02 -3.94457618e+00 -1.22296794e+01]\n",
      " [ 0.00000000e+00 -4.59407932e+01 -6.49989582e+01]\n",
      " [-1.01939086e-02 -4.59108415e+00 -1.51262777e+01]\n",
      " [-3.29909024e-02 -3.42805172e+00 -1.28845939e+01]\n",
      " [-1.12192932e-02 -4.49572513e+00 -1.93706160e+01]\n",
      " [-6.72627277e+00 -2.58945079e-03 -6.58053464e+00]\n",
      " [-1.74208664e+00 -1.92974858e-01 -7.97847472e+00]\n",
      " [-2.57285096e+01 -4.94707029e+00 -7.12954664e-03]\n",
      " [-1.78176316e+01 -2.33246737e-08 -1.91043075e+01]\n",
      " [-1.06768372e+01 -7.80393033e-04 -7.18612700e+00]\n",
      " [-2.97585051e-04 -8.12307212e+00 -1.38937356e+01]\n",
      " [-1.00064671e+01 -1.41402620e-03 -6.59446419e+00]\n",
      " [-8.33121589e-08 -1.63023926e+01 -2.26663730e+01]\n",
      " [-1.34946485e-03 -6.60874588e+00 -1.72440003e+01]\n",
      " [-4.79244603e+00 -6.33217343e+00 -1.01213631e-02]\n",
      " [-1.86075723e+01 -1.18637876e-05 -1.13427253e+01]\n",
      " [-6.25922551e+01 -4.01166542e+01  0.00000000e+00]\n",
      " [-9.73882850e-01 -4.74194790e-01 -1.75310578e+01]\n",
      " [-2.95528096e+01 -1.13686838e-13 -4.08067368e+01]\n",
      " [-8.38832945e-01 -5.74793613e-01 -5.30547560e+00]\n",
      " [-1.17125487e+01 -3.31407211e+00 -3.70540693e-02]\n",
      " [-1.70530257e-12 -2.71207100e+01 -6.70034520e+01]\n",
      " [-1.14338367e+01 -1.08230628e-05 -2.88326104e+01]\n",
      " [ 0.00000000e+00 -3.22940765e+01 -5.01497090e+01]\n",
      " [-8.14957623e+00 -2.91835023e-04 -1.27389049e+01]\n",
      " [-2.12484069e+01 -6.43922249e-10 -2.36711641e+01]\n",
      " [-1.02397735e-09 -2.07229677e+01 -2.44671416e+01]\n",
      " [-3.31490452e-06 -1.26171754e+01 -2.19107167e+01]\n",
      " [-1.67927657e+01 -6.47909269e+00 -1.53643360e-03]\n",
      " [-1.38922474e+01 -3.55894607e+00 -2.88828620e-02]\n",
      " [-4.57816896e-10 -2.16384891e+01 -2.35806034e+01]]\n"
     ]
    }
   ],
   "source": [
    "from scipy.special import logsumexp\n",
    "\n",
    "\n",
    "def NB_classify(class_priors, likelihoods, X_val):\n",
    "\n",
    "    predictions = np.zeros((X_val.shape[0], num_classes))  # an empty numpy array to store the predictions in\n",
    "\n",
    "    sum_of_log_likelihoods = X_val.dot(np.log(likelihoods))\n",
    "    log_joint_prob = sum_of_log_likelihoods + np.log(class_priors)[None, :]\n",
    "    for n, doc in enumerate(X_val):\n",
    "        predictions[n, :] = log_joint_prob[n]\n",
    "        predictions[n, :] -= logsumexp(predictions[n, :])\n",
    "    return predictions\n",
    "\n",
    "predictions = NB_classify(class_priors, likelihoods, X_val)\n",
    "print(predictions)"
   ]
  },
  {
   "cell_type": "markdown",
   "id": "d25d91f5",
   "metadata": {},
   "source": [
    "Use the 'predictions' array above to compute and print the accuracy of the classifier on the validation set.   "
   ]
  },
  {
   "cell_type": "code",
   "execution_count": 10,
   "id": "c70cca90",
   "metadata": {},
   "outputs": [
    {
     "data": {
      "text/plain": [
       "0.77"
      ]
     },
     "execution_count": 10,
     "metadata": {},
     "output_type": "execute_result"
    }
   ],
   "source": [
    "from sklearn.metrics import accuracy_score\n",
    "\n",
    "accuracy_score(val_labels, np.argmax(predictions, axis=1))"
   ]
  },
  {
   "cell_type": "markdown",
   "id": "a322e627",
   "metadata": {},
   "source": [
    "## TASK 1.1c\n",
    "\n",
    "The simplicty of naïve Bayes means that we can quite easily interpret the model. In the code above, we used the functions you implemented, compute_feature_likelihoods and compute_class_priors, to train an NB classifier with our training set. Given this classifier, which are the five n-gram features that most strongly indicate that the document belongs to class 0? Store these features in the 'top_features' list below.    (4 marks)"
   ]
  },
  {
   "cell_type": "code",
   "execution_count": 11,
   "id": "b6369d13",
   "metadata": {},
   "outputs": [
    {
     "name": "stdout",
     "output_type": "stream",
     "text": [
      "['to the', 'in the', ', and', 'of the', 'climate change']\n"
     ]
    }
   ],
   "source": [
    "top_features = []\n",
    "\n",
    "### WRITE YOUR ANSWER HERE\n",
    "class_0_likelihoods = likelihoods[:, 0]  # Extract likelihoods for class 0\n",
    "top_indices = np.argsort(class_0_likelihoods)[-5:]  # Get indices of top 5 features\n",
    "top_features = [vectorizer.get_feature_names_out()[i] for i in top_indices]  # Retrieve feature names\n",
    "\n",
    "\n",
    "\n",
    "### END OF ANSWER\n",
    "\n",
    "### DO NOT MODIFY\n",
    "print(top_features)\n",
    "pd.DataFrame(top_features).to_csv('./outputs/11c_top_feats.csv')\n",
    "###"
   ]
  },
  {
   "cell_type": "markdown",
   "id": "caecba31",
   "metadata": {},
   "source": [
    "Up to this point, the classifier used bigrams features extracted using CountVectorizer with the wordnet tokenizer. \n",
    "\n",
    "## TASK 1.1d\n",
    "\n",
    "Your task is to improve the naïve Bayes classifier by changing the preprocessing or features only. It is up to you to decide how many changes are needed to improve the classifier -- a single change may be enough to achieve a good result (and maximum marks) and you should only include steps that help performance. Complete the 'preprocess_improved' function below, and run the cell to compute accuracy of the improved classifier on the validation set.     (3 marks)"
   ]
  },
  {
   "cell_type": "code",
   "execution_count": 12,
   "id": "a4a80f2d",
   "metadata": {},
   "outputs": [
    {
     "name": "stdout",
     "output_type": "stream",
     "text": [
      "0.8\n"
     ]
    }
   ],
   "source": [
    "def preprocess_improved(train_texts):\n",
    "    ### WRITE YOUR ANSWER HERE\n",
    "\n",
    "    vectorizer = CountVectorizer(ngram_range=(1,2), token_pattern=None, tokenizer=word_tokenize, stop_words='english', max_features=10000)\n",
    "    X = vectorizer.fit_transform(train_texts).toarray()\n",
    "    num_features = X.shape[1]\n",
    "\n",
    "    X_val = vectorizer.transform(val_texts).toarray()\n",
    "\n",
    "    ### END OF ANSWER\n",
    "\n",
    "    return X, X_val, vectorizer, num_features\n",
    "\n",
    "X, X_val, vectorizer, num_features = preprocess_improved(train_texts)\n",
    "class_priors = compute_class_priors(train_texts, train_labels)\n",
    "likelihoods = compute_feature_likelihoods(X, train_labels)\n",
    "predictions = NB_classify(class_priors, likelihoods, X_val)\n",
    "predictions_nb = np.argmax(predictions, axis=1)\n",
    "\n",
    "### DO NOT MODIFY\n",
    "pd.DataFrame(predictions_nb).to_csv('./outputs/11d_improved_preds.csv')\n",
    "accuracy_improved = accuracy_score(val_labels, predictions_nb)\n",
    "print(accuracy_improved)\n",
    "###"
   ]
  },
  {
   "cell_type": "markdown",
   "id": "f4c60bcf",
   "metadata": {},
   "source": [
    "## TASK 1.2\n",
    "\n",
    "Below is an implementation of a neural network classifier that we can apply to the same dataset. However, there are some mistakes in the code and some poor choices in the choice of parameters and architecture. Your task is to fix the errors, make better parameter choices, and improve the model's performance. **Modify the code within the next cell** to improve the neural network classifier, then run it and compute its accuracy using the code in the cell after that.   (8 marks)"
   ]
  },
  {
   "cell_type": "code",
   "execution_count": 13,
   "id": "8091f8f2",
   "metadata": {},
   "outputs": [
    {
     "data": {
      "application/vnd.jupyter.widget-view+json": {
       "model_id": "445fe26c29bb4cc7b80de052bae51b70",
       "version_major": 2,
       "version_minor": 0
      },
      "text/plain": [
       "Map:   0%|          | 0/800 [00:00<?, ? examples/s]"
      ]
     },
     "metadata": {},
     "output_type": "display_data"
    },
    {
     "data": {
      "application/vnd.jupyter.widget-view+json": {
       "model_id": "92b660880e7147ac8446d86d5595d1ea",
       "version_major": 2,
       "version_minor": 0
      },
      "text/plain": [
       "Map:   0%|          | 0/200 [00:00<?, ? examples/s]"
      ]
     },
     "metadata": {},
     "output_type": "display_data"
    },
    {
     "name": "stdout",
     "output_type": "stream",
     "text": [
      "Epoch: 1/7, Training Loss: 1.1373\n",
      "Epoch: 1/7, Validation Loss: 1.0271\n",
      "Epoch: 2/7, Training Loss: 0.9630\n",
      "Epoch: 2/7, Validation Loss: 0.9010\n",
      "Epoch: 3/7, Training Loss: 0.7837\n",
      "Epoch: 3/7, Validation Loss: 0.7733\n",
      "Epoch: 4/7, Training Loss: 0.5994\n",
      "Epoch: 4/7, Validation Loss: 0.6441\n",
      "Epoch: 5/7, Training Loss: 0.4747\n",
      "Epoch: 5/7, Validation Loss: 0.5775\n",
      "Epoch: 6/7, Training Loss: 0.3204\n",
      "Epoch: 6/7, Validation Loss: 0.5420\n",
      "Epoch: 7/7, Training Loss: 0.3097\n",
      "Epoch: 7/7, Validation Loss: 0.5250\n",
      "0.75\n"
     ]
    }
   ],
   "source": [
    "### DO NOT MODIFY\n",
    "set_seed(my_student_number)\n",
    "###\n",
    "\n",
    "### WRITE YOUR ANSWER HERE: MODIFY THE CODE WITHIN THIS CELL\n",
    "\n",
    "# Importing nn module from the Pytorch library, which is used for building neural networks in Pytorch.\n",
    "from torch import nn\n",
    "# Importing optim module from the Pytorch library, which is used for optimization algorithms in Pytorch (Adams optimizer).\n",
    "from torch import optim\n",
    "# This line imports the AutoTokenizer class from the transformers library (automatically load the appropriate tokenizer for a given pre-trained model). \n",
    "from transformers import AutoTokenizer\n",
    "# Importing the DataLoader class from the torch.utils.data module, which is used for loading datasets in Pytorch.\n",
    "from torch.utils.data import DataLoader\n",
    "# Importing the accuracy_score function from sklearn.metrics, which is used to calculate the accuracy of predictions.\n",
    "import torch.nn.functional as F\n",
    "\n",
    "\n",
    "# Loading the tokenizer for the ClimateBERT model, which is fine tuned for climate-related text.\n",
    "tokenizer = AutoTokenizer.from_pretrained(\"climatebert/distilroberta-base-climate-f\")\n",
    "\n",
    "# Setting up hyperparameters for the model.\n",
    "# num_classes = 3, hence 3 nodes in the output layer. \n",
    "sequence_length = 120\n",
    "batch_size = 32\n",
    "embedding_dim = 256\n",
    "hidden_size = 512\n",
    "num_epochs = 7\n",
    "learning_rate = 5e-4\n",
    "\n",
    "def tokenize_function(examples):\n",
    "    return tokenizer(\n",
    "        examples[\"text\"],\n",
    "        padding=\"max_length\",\n",
    "        truncation=True,\n",
    "        max_length=sequence_length,\n",
    "        return_tensors=\"pt\"\n",
    "    )\n",
    "\n",
    "# Applying the tokenize_function to the training dataset and setting the format for PyTorch.\n",
    "tokenized_dataset = train_dataset.map(tokenize_function, batched=True)\n",
    "tokenized_dataset.set_format(type=\"torch\", columns=[\"input_ids\", \"attention_mask\", \"label\"])\n",
    "# Creating a DataLoader for the training set, which will load batches of data during training.\n",
    "train_loader = DataLoader(tokenized_dataset, batch_size=batch_size, shuffle=True)\n",
    "\n",
    "# Applying the tokenize_function to the validation dataset and setting the format for PyTorch\n",
    "tokenized_dataset = val_dataset.map(tokenize_function, batched=True)\n",
    "tokenized_dataset.set_format(type=\"torch\", columns=[\"input_ids\", \"attention_mask\", \"label\"])\n",
    "# Creating a DataLoader for the validation set, which will load batches of data during validation.\n",
    "val_loader = DataLoader(tokenized_dataset, batch_size=batch_size, shuffle=False)\n",
    "\n",
    "class FFTextClassifier(nn.Module):\n",
    "\n",
    "    def __init__(self, vocab_size, sequence_length, embedding_size, hidden_size, num_classes):\n",
    "        super(FFTextClassifier, self).__init__()\n",
    "\n",
    "        self.embedding_size = embedding_size\n",
    "        self.sequence_length = sequence_length\n",
    "        # Embedding layer, converts input token indices to dense vectors of fixed size (embedding_size).\n",
    "        self.embedding_layer = nn.Embedding(vocab_size, embedding_size)\n",
    "        self.conv1 = nn.Conv1d(embedding_size, hidden_size, kernel_size=3, padding=1) # Here, kernel_size and padding ensure that the output has the same lenght as the input.\n",
    "        self.activation1 = nn.ReLU()\n",
    "        # Reduces the sequence length by taking the maximum value over the entire sequence. \n",
    "        # Using AdaptiveMaxPool1d with output size 1, which reduces the sequence dimension to a single value per feature.\n",
    "        self.pool = nn.AdaptiveMaxPool1d(1)\n",
    "        # The dropout rate is set to 50% i.e half of the units in the previous layer are randomly dropped out.\n",
    "        self.dropout = nn.Dropout(0.5)\n",
    "        # Fully connected layer, linear layer that reduces the output size from hidden_size to hidden_size // 2.\n",
    "        self.hidden_layer2 = nn.Linear(hidden_size, hidden_size // 2)\n",
    "        self.activation2 = nn.ReLU()\n",
    "        self.output_layer = nn.Linear(hidden_size // 2, num_classes)\n",
    "\n",
    "    def forward(self, input_ids, attention_mask=None):\n",
    "        # Passing the input through the embedding layer, converting token IDs into word embeddings.\n",
    "        embedded_words = self.embedding_layer(input_ids)\n",
    "        # Transposes the embedded words from shape (batch_size, seq_len, embedding_size) to (batch_size, embedding_size, seq_len), required for the 1D convolution.\n",
    "        embedded_words = embedded_words.transpose(1, 2)\n",
    "        # Applying the convolutional layer, extracting features from the sqeuence (n-grams).\n",
    "        x = self.conv1(embedded_words)\n",
    "        x = self.activation1(x)\n",
    "        # Applying AdaptiveMaxPool1d to reduce the sequence length to 1 (reducing the tensor from 3D to 2D).\n",
    "        x = self.pool(x)\n",
    "        # After pooling, the tensor has shape (batch_size, hidden_size, 1), so we remove the last dimension.\n",
    "        x = x.squeeze(2)\n",
    "        # Applying dropout to prevent overfitting, works by randomly setting some of the activations to zero during training.\n",
    "        x = self.dropout(x)\n",
    "\n",
    "        x = self.hidden_layer2(x)\n",
    "        x = self.activation2(x)\n",
    "        # Passing the output through the final output layer, which has num_classes = 3 nodes, layer produces the final logits for each class.\n",
    "        output = self.output_layer(x)\n",
    "        return output\n",
    "\n",
    "    def run_training(self, train_dataloader, dev_dataloader):\n",
    "\n",
    "        loss_fn = nn.CrossEntropyLoss()\n",
    "        optimizer = optim.Adam(self.parameters(), lr=learning_rate)\n",
    "\n",
    "        dev_losses = []\n",
    "\n",
    "        for e in range(num_epochs):\n",
    "            train_losses = []\n",
    "            self.train()\n",
    "\n",
    "            for i, batch in enumerate(train_dataloader):\n",
    "                optimizer.zero_grad()\n",
    "                input_ids = batch['input_ids']\n",
    "                output = self(input_ids)\n",
    "                batch_loss = loss_fn(output, batch['label'])\n",
    "                batch_loss.backward()\n",
    "                optimizer.step()\n",
    "                train_losses.append(batch_loss.item())\n",
    "\n",
    "            print(f\"Epoch: {e + 1}/{num_epochs}, Training Loss: {np.mean(train_losses):.4f}\")\n",
    "\n",
    "            self.eval()\n",
    "            dev_losses_epoch = []\n",
    "\n",
    "            for dev_batch in dev_dataloader:\n",
    "                input_ids = dev_batch['input_ids']\n",
    "                dev_output = self(input_ids)\n",
    "                dev_loss = loss_fn(dev_output, dev_batch['label'])\n",
    "                dev_losses_epoch.append(dev_loss.item())\n",
    "\n",
    "            dev_losses.append(np.mean(dev_losses_epoch))\n",
    "            print(f\"Epoch: {e + 1}/{num_epochs}, Validation Loss: {dev_losses[-1]:.4f}\")\n",
    "\n",
    "        return dev_losses\n",
    "\n",
    "def predict_nn(trained_model, data_loader):\n",
    "    trained_model.eval()\n",
    "    pred_labs = []\n",
    "\n",
    "    for batch in data_loader:\n",
    "        input_ids = batch['input_ids']\n",
    "        test_output = trained_model(input_ids)\n",
    "        predicted_labels = test_output.argmax(1)\n",
    "        pred_labs.extend(predicted_labels.tolist())\n",
    "\n",
    "    return pred_labs\n",
    "\n",
    "vocab_size = max(tokenizer.get_vocab().values()) + 1 # Original line of code\n",
    "nn_classifier_model = FFTextClassifier(vocab_size, sequence_length, embedding_dim, hidden_size, num_classes)\n",
    "dev_losses = nn_classifier_model.run_training(train_loader, val_loader)\n",
    "\n",
    "predictions_nn = predict_nn(nn_classifier_model, val_loader)\n",
    "\n",
    "### END OF ANSWER\n",
    "\n",
    "### DO NOT MODIFY\n",
    "pd.DataFrame(predictions_nn).to_csv(\"./outputs/12_nn_preds.csv\")\n",
    "accuracy_nn = accuracy_score(val_labels, predictions_nn)\n",
    "print(accuracy_nn)\n",
    "###"
   ]
  },
  {
   "cell_type": "markdown",
   "id": "665ddf4e",
   "metadata": {},
   "source": [
    "We now explore the use of transformers for building a text classifier. First, let's look at how the process a document. We'll chose one at random from the training set:"
   ]
  },
  {
   "cell_type": "code",
   "execution_count": 14,
   "id": "54d2a23e",
   "metadata": {},
   "outputs": [],
   "source": [
    "### DO NOT MODIFY\n",
    "chosen_document = train_texts[np.random.randint(len(train_texts))]"
   ]
  },
  {
   "cell_type": "markdown",
   "id": "ca45d880",
   "metadata": {},
   "source": [
    "## TASK 1.3a\n",
    "\n",
    "Use the HuggingFace transformers library to load the pretrained BERT model \"prajjwal1/bert-tiny\". Obtain a document embedding for the chosen document given above. Comment your code to explain how it obtains a representation of the document.    (3 marks)"
   ]
  },
  {
   "cell_type": "code",
   "execution_count": 15,
   "id": "1266cce6",
   "metadata": {},
   "outputs": [
    {
     "name": "stdout",
     "output_type": "stream",
     "text": [
      "[[ 0.68653965  1.4661262  -4.0584407  -0.41935784  0.40189984  0.11576049\n",
      "   0.36171576  1.5808071   0.09927985  1.2442403   0.6996219   1.1368225\n",
      "   0.01021597 -0.35720953  1.9377443  -0.30223125 -1.005615   -1.1137446\n",
      "  -0.4699459   0.9816291  -0.7223004   0.76492417  2.1274219   0.73005134\n",
      "   2.3007264  -0.37367326 -0.51506144 -0.6647792  -0.39258623  0.83951664\n",
      "   1.3212192  -0.83370197 -1.0029147  -0.19491567  0.59751004 -1.3736687\n",
      "  -1.0464209   0.9198849  -2.1951315  -0.7254908  -0.43582526  0.07712255\n",
      "  -0.12450959 -1.9939997   0.40623534 -1.7777809  -0.1449757  -0.4690484\n",
      "  -0.5414165   0.9283023   0.9859487   1.3369174  -0.68394727  0.12364272\n",
      "  -1.1535665  -0.408989   -1.4303138  -1.4013221   0.43551823  2.7341714\n",
      "  -0.89353186 -0.44960582 -2.1531515  -2.0251927  -1.3466438   0.5065092\n",
      "   0.9202897   0.5219299  -2.4669359  -1.4244568  -1.1668272   0.02559411\n",
      "   1.0330344  -0.16518018 -0.41084278  0.51703537  0.50360644 -0.4051518\n",
      "   0.9830454   0.63797486 -0.6664931  -0.8671049  -0.07418849  0.35525376\n",
      "   0.19422907  0.2691406   0.81100273 -0.2881783   0.7984713  -1.3514067\n",
      "   2.362992    0.7170278  -0.11708266  0.6187202  -0.5800463   0.04636203\n",
      "  -1.7149358  -0.8108441   0.5513708   0.39969963 -0.2551828  -0.54998296\n",
      "  -1.907076    0.16011265 -1.1072134  -0.8952087   0.8265716   0.6173258\n",
      "   1.4876727  -0.5680332   0.5166106   0.10967799 -0.4416987   0.40444317\n",
      "   0.6861773   0.55061865  0.627926    0.42429966  0.07180828 -0.82446533\n",
      "   0.81748545  1.2517372  -0.00896081  1.3749504  -1.1169584  -1.4224399\n",
      "  -2.0305579   1.1372426 ]]\n"
     ]
    }
   ],
   "source": [
    "### DO NOT MODIFY\n",
    "set_seed(my_student_number)\n",
    "###\n",
    "\n",
    "### WRITE YOUR ANSWER HERE\n",
    "\n",
    "from transformers import AutoTokenizer, BertModel  \n",
    "import torch\n",
    "\n",
    "# Loading the pretrained BERT model and tokenizer.\n",
    "tokenizer = AutoTokenizer.from_pretrained('prajjwal1/bert-tiny')\n",
    "model = BertModel.from_pretrained('prajjwal1/bert-tiny')  \n",
    "# Setting the maximum sequence length to 128.\n",
    "max_length = 128  \n",
    "# Tokenize the chosen document.\n",
    "encoded_input = tokenizer(chosen_document, padding=True, max_length=max_length, truncation=True, return_tensors='pt')\n",
    "\n",
    "# Get the models output.\n",
    "with torch.no_grad():  \n",
    "    output = model(**encoded_input)  \n",
    "\n",
    "# The output contains various information. For document embedding, we can use the [CLS] token's output.\n",
    "# The [CLS] token is the first token in the sequence, and its final hidden state is often used as a representation of the whole sequence.\n",
    "doc_emb = output.last_hidden_state[:, 0, :].numpy()  # Shape: (batch_size, hidden_size) [cite: text_analytics_part1.ipynb]\n",
    "\n",
    "### END OF ANSWER\n",
    "\n",
    "### DO NOT MODIFY\n",
    "import pandas as pd\n",
    "\n",
    "pd.DataFrame(doc_emb).to_csv('./outputs/13a_sen_emb.csv')\n",
    "print(doc_emb)\n",
    "###"
   ]
  },
  {
   "cell_type": "markdown",
   "id": "aa93e1d9",
   "metadata": {},
   "source": [
    "## TASK 1.3b\n",
    "\n",
    "Using the same document embeddings method as the previous task, find the most similar document to the 'chosen_document' from within the validation set (from the 'val_texts' object). Use a standard similarity metric that considers the direction but not the magnitude of the embedding vectors. Use the same model as in task 1.8.  (2 marks)"
   ]
  },
  {
   "cell_type": "code",
   "execution_count": 16,
   "id": "19d97094",
   "metadata": {},
   "outputs": [
    {
     "name": "stderr",
     "output_type": "stream",
     "text": [
      "huggingface/tokenizers: The current process just got forked, after parallelism has already been used. Disabling parallelism to avoid deadlocks...\n",
      "To disable this warning, you can either:\n",
      "\t- Avoid using `tokenizers` before the fork if possible\n",
      "\t- Explicitly set the environment variable TOKENIZERS_PARALLELISM=(true | false)\n"
     ]
    },
    {
     "name": "stdout",
     "output_type": "stream",
     "text": [
      "Requirement already satisfied: scikit-learn in /opt/anaconda3/envs/r_env/lib/python3.10/site-packages (1.3.2)\n",
      "Requirement already satisfied: numpy<2.0,>=1.17.3 in /opt/anaconda3/envs/r_env/lib/python3.10/site-packages (from scikit-learn) (1.24.4)\n",
      "Requirement already satisfied: scipy>=1.5.0 in /opt/anaconda3/envs/r_env/lib/python3.10/site-packages (from scikit-learn) (1.15.2)\n",
      "Requirement already satisfied: joblib>=1.1.1 in /opt/anaconda3/envs/r_env/lib/python3.10/site-packages (from scikit-learn) (1.4.2)\n",
      "Requirement already satisfied: threadpoolctl>=2.0.0 in /opt/anaconda3/envs/r_env/lib/python3.10/site-packages (from scikit-learn) (3.6.0)\n",
      "Note: you may need to restart the kernel to use updated packages.\n",
      "We made three key commitments to deal with key land, urban and industry shifts. These included launching a partnership with ClimateWorks Australia to develop sustainable agricultural metrics to improve natural asset management, investing $2 billion in affordable housing and investing $2 billion in the emerging technology sector to spur innovation by 2025.\n",
      "$200 billion in financing to sustainable businesses and projects by 2030, with more than 50 percent focused on clean technology and renewable energy transactions to help accelerate the transition to a low-carbon economy. This commitment demonstrates how our products and services, operations and culture, and philanthropy can be harnessed toward a single goal. As an example,\n"
     ]
    }
   ],
   "source": [
    "### DO NOT MODIFY\n",
    "set_seed(my_student_number)\n",
    "###\n",
    "\n",
    "### WRITE YOUR ANSWER HERE\n",
    "# Install scikit-learn if not already installed\n",
    "%pip install scikit-learn\n",
    "\n",
    "# Importing cosine_similarity from sklearn.metrics.pairwise for calculating cosine similarity between vectors, to measure how similar the vectors are.\n",
    "from sklearn.metrics.pairwise import cosine_similarity\n",
    "\n",
    "# Getting the embedding for the chosen document\n",
    "chosen_document_embedding = doc_emb\n",
    "\n",
    "# Finding the most similar document in val_texts to chosen_document.\n",
    "highest_similarity = -1.0\n",
    "most_similar_doc = \"\"\n",
    "\n",
    "# Iterating through each document in the validation set.\n",
    "for val_text in val_texts:\n",
    "    # Tokenize the validation document and get its embedding.\n",
    "    encoded_input_val = tokenizer(val_text, padding=True, truncation=True, max_length=max_length, return_tensors='pt')\n",
    "    with torch.no_grad():\n",
    "        output_val = model(**encoded_input_val)\n",
    "    val_text_embedding = output_val.last_hidden_state[:, 0, :].numpy()\n",
    "\n",
    "    # Calculating cosine similarity\n",
    "    similarity = cosine_similarity(chosen_document_embedding, val_text_embedding)[0][0]\n",
    "\n",
    "    # Updating most similar document if current similarity is higher.\n",
    "    if similarity > highest_similarity:\n",
    "        highest_similarity = similarity\n",
    "        most_similar_doc = val_text\n",
    "\n",
    "### END OF ANSWER\n",
    "\n",
    "### DO NOT MODIFY\n",
    "import pandas as pd\n",
    "pd.DataFrame([chosen_document, most_similar_doc]).to_csv(\"./outputs/13b_most_similar.csv\")\n",
    "print(chosen_document)\n",
    "print(most_similar_doc)\n",
    "###"
   ]
  },
  {
   "cell_type": "markdown",
   "id": "89641896",
   "metadata": {},
   "source": [
    "## TASK 1.3c\n",
    "\n",
    "Implement a classifier based on the same pretrained transformer model, \"prajjwal1/bert-tiny\". Evaluate your model's performance on the validation set. Use an 'auto class' from HuggingFace to build your classifier (see https://huggingface.co/docs/transformers/model_doc/auto).   (6 marks)"
   ]
  },
  {
   "cell_type": "code",
   "execution_count": 17,
   "id": "2e6fd664",
   "metadata": {},
   "outputs": [
    {
     "name": "stderr",
     "output_type": "stream",
     "text": [
      "Some weights of BertForSequenceClassification were not initialized from the model checkpoint at prajjwal1/bert-tiny and are newly initialized: ['classifier.bias', 'classifier.weight']\n",
      "You should probably TRAIN this model on a down-stream task to be able to use it for predictions and inference.\n"
     ]
    },
    {
     "data": {
      "application/vnd.jupyter.widget-view+json": {
       "model_id": "535f23cb765443bd9f7fc0b1f9b6ff3a",
       "version_major": 2,
       "version_minor": 0
      },
      "text/plain": [
       "Map:   0%|          | 0/800 [00:00<?, ? examples/s]"
      ]
     },
     "metadata": {},
     "output_type": "display_data"
    },
    {
     "data": {
      "application/vnd.jupyter.widget-view+json": {
       "model_id": "f8cfb4a861c44739a71004e16635ff0a",
       "version_major": 2,
       "version_minor": 0
      },
      "text/plain": [
       "Map:   0%|          | 0/200 [00:00<?, ? examples/s]"
      ]
     },
     "metadata": {},
     "output_type": "display_data"
    },
    {
     "name": "stderr",
     "output_type": "stream",
     "text": [
      "/opt/anaconda3/envs/r_env/lib/python3.10/site-packages/transformers/training_args.py:1611: FutureWarning: `evaluation_strategy` is deprecated and will be removed in version 4.46 of 🤗 Transformers. Use `eval_strategy` instead\n",
      "  warnings.warn(\n"
     ]
    },
    {
     "data": {
      "text/html": [
       "\n",
       "    <div>\n",
       "      \n",
       "      <progress value='500' max='500' style='width:300px; height:20px; vertical-align: middle;'></progress>\n",
       "      [500/500 00:22, Epoch 10/10]\n",
       "    </div>\n",
       "    <table border=\"1\" class=\"dataframe\">\n",
       "  <thead>\n",
       " <tr style=\"text-align: left;\">\n",
       "      <th>Epoch</th>\n",
       "      <th>Training Loss</th>\n",
       "      <th>Validation Loss</th>\n",
       "    </tr>\n",
       "  </thead>\n",
       "  <tbody>\n",
       "    <tr>\n",
       "      <td>1</td>\n",
       "      <td>1.111300</td>\n",
       "      <td>1.077486</td>\n",
       "    </tr>\n",
       "    <tr>\n",
       "      <td>2</td>\n",
       "      <td>1.047000</td>\n",
       "      <td>0.998826</td>\n",
       "    </tr>\n",
       "    <tr>\n",
       "      <td>3</td>\n",
       "      <td>0.969900</td>\n",
       "      <td>0.921870</td>\n",
       "    </tr>\n",
       "    <tr>\n",
       "      <td>4</td>\n",
       "      <td>0.901100</td>\n",
       "      <td>0.850928</td>\n",
       "    </tr>\n",
       "    <tr>\n",
       "      <td>5</td>\n",
       "      <td>0.837600</td>\n",
       "      <td>0.806203</td>\n",
       "    </tr>\n",
       "    <tr>\n",
       "      <td>6</td>\n",
       "      <td>0.790200</td>\n",
       "      <td>0.771311</td>\n",
       "    </tr>\n",
       "    <tr>\n",
       "      <td>7</td>\n",
       "      <td>0.759000</td>\n",
       "      <td>0.745940</td>\n",
       "    </tr>\n",
       "    <tr>\n",
       "      <td>8</td>\n",
       "      <td>0.735100</td>\n",
       "      <td>0.733767</td>\n",
       "    </tr>\n",
       "    <tr>\n",
       "      <td>9</td>\n",
       "      <td>0.721300</td>\n",
       "      <td>0.724713</td>\n",
       "    </tr>\n",
       "    <tr>\n",
       "      <td>10</td>\n",
       "      <td>0.717500</td>\n",
       "      <td>0.722363</td>\n",
       "    </tr>\n",
       "  </tbody>\n",
       "</table><p>"
      ],
      "text/plain": [
       "<IPython.core.display.HTML object>"
      ]
     },
     "metadata": {},
     "output_type": "display_data"
    },
    {
     "data": {
      "text/html": [],
      "text/plain": [
       "<IPython.core.display.HTML object>"
      ]
     },
     "metadata": {},
     "output_type": "display_data"
    },
    {
     "name": "stdout",
     "output_type": "stream",
     "text": [
      "0.785\n"
     ]
    }
   ],
   "source": [
    "### DO NOT MODIFY\n",
    "set_seed(my_student_number)\n",
    "###\n",
    "\n",
    "### WRITE YOUR ANSWER HERE\n",
    "\n",
    "from transformers import AutoTokenizer, AutoModelForSequenceClassification, Trainer, TrainingArguments\n",
    "from datasets import Dataset\n",
    "import numpy as np\n",
    "import torch\n",
    "\n",
    "# Load tokenizer and model\n",
    "model_name = \"prajjwal1/bert-tiny\"\n",
    "tokenizer = AutoTokenizer.from_pretrained(model_name)\n",
    "model = AutoModelForSequenceClassification.from_pretrained(model_name, num_labels=num_classes)\n",
    "\n",
    "# Tokenization function\n",
    "def tokenize_fn(examples):\n",
    "    return tokenizer(examples[\"text\"], truncation=True, padding=\"max_length\", max_length=128)\n",
    "\n",
    "# Prepare HuggingFace datasets\n",
    "train_dataset_hf = Dataset.from_dict({\"text\": train_texts, \"label\": train_labels})\n",
    "val_dataset_hf = Dataset.from_dict({\"text\": val_texts, \"label\": val_labels})\n",
    "\n",
    "train_dataset_hf = train_dataset_hf.map(tokenize_fn, batched=True)\n",
    "val_dataset_hf = val_dataset_hf.map(tokenize_fn, batched=True)\n",
    "\n",
    "# Set format for PyTorch\n",
    "train_dataset_hf.set_format(type=\"torch\", columns=[\"input_ids\", \"attention_mask\", \"label\"])\n",
    "val_dataset_hf.set_format(type=\"torch\", columns=[\"input_ids\", \"attention_mask\", \"label\"])\n",
    "\n",
    "# Training arguments (improved)\n",
    "training_args = TrainingArguments(\n",
    "    output_dir=\"./outputs/tinybert_classifier\",\n",
    "    evaluation_strategy=\"epoch\",\n",
    "    per_device_train_batch_size=16,\n",
    "    per_device_eval_batch_size=16,\n",
    "    num_train_epochs=10,\n",
    "    learning_rate=3e-5,\n",
    "    weight_decay=0.01,\n",
    "    warmup_steps=50,\n",
    "    logging_dir=\"./outputs/logs\",\n",
    "    logging_strategy=\"epoch\",\n",
    "    save_strategy=\"no\",\n",
    "    seed=my_student_number\n",
    ")\n",
    "\n",
    "# Define Trainer\n",
    "trainer = Trainer(\n",
    "    model=model,\n",
    "    args=training_args,\n",
    "    train_dataset=train_dataset_hf,\n",
    "    eval_dataset=val_dataset_hf,\n",
    ")\n",
    "\n",
    "# Train the model\n",
    "trainer.train()\n",
    "\n",
    "# Predict on validation set\n",
    "predictions = trainer.predict(val_dataset_hf)\n",
    "predictions_bert = np.argmax(predictions.predictions, axis=1).tolist()\n",
    "\n",
    "\n",
    "### END OF ANSWER\n",
    "\n",
    "### DO NOT MODIFY\n",
    "pd.DataFrame(predictions_bert).to_csv('./outputs/13c_bert_preds.csv')\n",
    "accuracy_tinybert = accuracy_score(val_dataset[\"label\"], predictions_bert)\n",
    "print(accuracy_tinybert)\n",
    "### \n"
   ]
  }
 ],
 "metadata": {
  "kernelspec": {
   "display_name": "r_env",
   "language": "python",
   "name": "python3"
  },
  "language_info": {
   "codemirror_mode": {
    "name": "ipython",
    "version": 3
   },
   "file_extension": ".py",
   "mimetype": "text/x-python",
   "name": "python",
   "nbconvert_exporter": "python",
   "pygments_lexer": "ipython3",
   "version": "3.10.15"
  }
 },
 "nbformat": 4,
 "nbformat_minor": 5
}
